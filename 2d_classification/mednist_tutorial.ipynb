{
  "cells": [
    {
      "cell_type": "markdown",
      "metadata": {
        "id": "xWuG8dk8d0fU"
      },
      "source": [
        "版权所有 (c) MONAI Consortium  \n",
        "根据 Apache 许可证 2.0 版（以下简称“许可证”）授权许可；  \n",
        "除非遵守许可证，否则你不能使用此文件。  \n",
        "你可以在以下网址获得许可证副本：  \n",
        "&nbsp;&nbsp;&nbsp;&nbsp;http://www.apache.org/licenses/LICENSE-2.0  \n",
        "除非适用法律要求或书面同意，依据许可证分发的软件按“原样”分发，  \n",
        "不附带任何明示或暗示的担保或条件。  \n",
        "请参阅许可证以了解具体语言及权限限制。\n",
        "\n",
        "# 使用 MedNIST 数据集的医学图像分类教程\n",
        "\n",
        "在本教程中，我们介绍了一个基于 MedNIST 数据集的端到端训练和评估示例。\n",
        "\n",
        "我们将进行以下步骤：\n",
        "* 创建用于训练和测试的数据集\n",
        "* 使用 MONAI 变换预处理数据\n",
        "* 使用 MONAI 的 DenseNet 进行分类\n",
        "* 使用 PyTorch 程序训练模型\n",
        "* 在测试数据集上进行评估\n",
        "\n",
        "[![Open In Colab](https://colab.research.google.com/assets/colab-badge.svg)](https://colab.research.google.com/github/Project-MONAI/tutorials/blob/main/2d_classification/mednist_tutorial.ipynb)\n"
      ]
    },
    {
      "cell_type": "markdown",
      "metadata": {
        "id": "QAWMOr7Sd0fX"
      },
      "source": [
        "## Setup environment"
      ]
    },
    {
      "cell_type": "code",
      "execution_count": 6,
      "metadata": {
        "id": "bDnHshZgd0fX",
        "outputId": "6991e91e-12d4-4580-bcc1-10bba21840b2",
        "colab": {
          "base_uri": "https://localhost:8080/"
        }
      },
      "outputs": [
        {
          "output_type": "stream",
          "name": "stdout",
          "text": [
            "2024-12-25 01:47:08.353692: E external/local_xla/xla/stream_executor/cuda/cuda_fft.cc:485] Unable to register cuFFT factory: Attempting to register factory for plugin cuFFT when one has already been registered\n",
            "2024-12-25 01:47:08.372039: E external/local_xla/xla/stream_executor/cuda/cuda_dnn.cc:8454] Unable to register cuDNN factory: Attempting to register factory for plugin cuDNN when one has already been registered\n",
            "2024-12-25 01:47:08.377804: E external/local_xla/xla/stream_executor/cuda/cuda_blas.cc:1452] Unable to register cuBLAS factory: Attempting to register factory for plugin cuBLAS when one has already been registered\n",
            "2024-12-25 01:47:09.490207: W tensorflow/compiler/tf2tensorrt/utils/py_utils.cc:38] TF-TRT Warning: Could not find TensorRT\n"
          ]
        }
      ],
      "source": [
        "!python -c \"import monai\" || pip install -q \"monai-weekly[pillow, tqdm]\"\n",
        "!python -c \"import matplotlib\" || pip install -q matplotlib\n",
        "%matplotlib inline"
      ]
    },
    {
      "cell_type": "markdown",
      "metadata": {
        "id": "wamzsK40d0fY"
      },
      "source": [
        "## Setup imports"
      ]
    },
    {
      "cell_type": "code",
      "execution_count": 7,
      "metadata": {
        "tags": [],
        "id": "LLLL1ured0fZ",
        "outputId": "2b89ad48-dd5a-4afb-c051-3f4f63e3585a",
        "colab": {
          "base_uri": "https://localhost:8080/"
        }
      },
      "outputs": [
        {
          "output_type": "stream",
          "name": "stdout",
          "text": [
            "MONAI version: 1.5.dev2451\n",
            "Numpy version: 1.26.4\n",
            "Pytorch version: 2.5.1+cu121\n",
            "MONAI flags: HAS_EXT = False, USE_COMPILED = False, USE_META_DICT = False\n",
            "MONAI rev id: 7c1c58cd10db72c01b5cdda1600cd68e262437cf\n",
            "MONAI __file__: /usr/local/lib/python3.10/dist-packages/monai/__init__.py\n",
            "\n",
            "Optional dependencies:\n",
            "Pytorch Ignite version: NOT INSTALLED or UNKNOWN VERSION.\n",
            "ITK version: NOT INSTALLED or UNKNOWN VERSION.\n",
            "Nibabel version: 5.3.2\n",
            "scikit-image version: 0.25.0\n",
            "scipy version: 1.13.1\n",
            "Pillow version: 11.0.0\n",
            "Tensorboard version: 2.17.1\n",
            "gdown version: 5.2.0\n",
            "TorchVision version: 0.20.1+cu121\n",
            "tqdm version: 4.67.1\n",
            "lmdb version: NOT INSTALLED or UNKNOWN VERSION.\n",
            "psutil version: 5.9.5\n",
            "pandas version: 2.2.2\n",
            "einops version: 0.8.0\n",
            "transformers version: 4.47.1\n",
            "mlflow version: NOT INSTALLED or UNKNOWN VERSION.\n",
            "pynrrd version: NOT INSTALLED or UNKNOWN VERSION.\n",
            "clearml version: NOT INSTALLED or UNKNOWN VERSION.\n",
            "\n",
            "For details about installing the optional dependencies, please visit:\n",
            "    https://docs.monai.io/en/latest/installation.html#installing-the-recommended-dependencies\n",
            "\n"
          ]
        }
      ],
      "source": [
        "import os\n",
        "import shutil\n",
        "import tempfile\n",
        "import matplotlib.pyplot as plt\n",
        "import PIL\n",
        "import torch\n",
        "from torch.utils.tensorboard import SummaryWriter\n",
        "import numpy as np\n",
        "from sklearn.metrics import classification_report\n",
        "\n",
        "from monai.apps import download_and_extract\n",
        "from monai.config import print_config\n",
        "from monai.data import decollate_batch, DataLoader\n",
        "from monai.metrics import ROCAUCMetric\n",
        "from monai.networks.nets import DenseNet121\n",
        "from monai.transforms import (\n",
        "    Activations,\n",
        "    EnsureChannelFirst,\n",
        "    AsDiscrete,\n",
        "    Compose,\n",
        "    LoadImage,\n",
        "    RandFlip,\n",
        "    RandRotate,\n",
        "    RandZoom,\n",
        "    ScaleIntensity,\n",
        ")\n",
        "from monai.utils import set_determinism\n",
        "\n",
        "print_config()"
      ]
    },
    {
      "cell_type": "markdown",
      "metadata": {
        "id": "8Z_5XXU3d0fa"
      },
      "source": [
        "## 设置数据目录\n",
        "\n",
        "你可以使用 `MONAI_DATA_DIRECTORY` 环境变量指定一个目录。  \n",
        "这允许你保存结果并重用下载内容。  \n",
        "如果未指定，将使用临时目录。"
      ]
    },
    {
      "cell_type": "code",
      "execution_count": 8,
      "metadata": {
        "tags": [],
        "id": "mZQoZjLWd0fb",
        "outputId": "fb244478-fa5d-4daa-9317-5fc2378f84dc",
        "colab": {
          "base_uri": "https://localhost:8080/"
        }
      },
      "outputs": [
        {
          "output_type": "stream",
          "name": "stdout",
          "text": [
            "未设置 MONAI_DATA_DIRECTORY 环境变量，使用临时目录: /tmp/tmpwu96p80w\n"
          ]
        }
      ],
      "source": [
        "# 定义数据目录的环境变量名称\n",
        "DATA_DIR_ENV_VAR = \"MONAI_DATA_DIRECTORY\"\n",
        "\n",
        "# 尝试获取用户指定的数据目录\n",
        "data_dir = os.environ.get(DATA_DIR_ENV_VAR)\n",
        "\n",
        "# 如果用户未指定，则创建临时目录\n",
        "if data_dir is None:\n",
        "    data_dir = tempfile.mkdtemp()\n",
        "    print(f\"未设置 {DATA_DIR_ENV_VAR} 环境变量，使用临时目录: {data_dir}\")\n",
        "else:\n",
        "    # 确保用户指定的目录存在\n",
        "    os.makedirs(data_dir, exist_ok=True)\n",
        "    print(f\"使用用户指定的数据目录: {data_dir}\")"
      ]
    },
    {
      "cell_type": "markdown",
      "metadata": {
        "id": "4-GzelgOd0fb"
      },
      "source": [
        "## 下载数据集\n",
        "\n",
        "MedNIST 数据集是从 [TCIA](https://wiki.cancerimagingarchive.net/display/Public/Data+Usage+Policies+and+Restrictions)、[RSNA Bone Age Challenge](http://rsnachallenges.cloudapp.net/competitions/4) 和 [NIH Chest X-ray 数据集](https://cloud.google.com/healthcare/docs/resources/public-datasets/nih-chest) 中收集的。\n",
        "\n",
        "该数据集由 [Dr. Bradley J. Erickson M.D., Ph.D.](https://www.mayo.edu/research/labs/radiology-informatics/overview)（梅奥诊所放射科）在 Creative Commons [CC BY-SA 4.0 许可证](https://creativecommons.org/licenses/by-sa/4.0/) 下提供。\n",
        "\n",
        "如果你使用 MedNIST 数据集，请注明来源。"
      ]
    },
    {
      "cell_type": "code",
      "execution_count": 11,
      "metadata": {
        "tags": [],
        "id": "nERD-HYJd0fc",
        "outputId": "c4ed4568-65b6-4c97-8e62-6772f41f3cb5",
        "colab": {
          "base_uri": "https://localhost:8080/"
        }
      },
      "outputs": [
        {
          "output_type": "stream",
          "name": "stderr",
          "text": [
            "MedNIST.tar.gz: 59.0MB [00:01, 40.5MB/s]                            "
          ]
        },
        {
          "output_type": "stream",
          "name": "stdout",
          "text": [
            "2024-12-25 01:49:06,383 - INFO - Downloaded: /tmp/tmpwu96p80w/MedNIST.tar.gz\n"
          ]
        },
        {
          "output_type": "stream",
          "name": "stderr",
          "text": [
            "\n"
          ]
        },
        {
          "output_type": "stream",
          "name": "stdout",
          "text": [
            "2024-12-25 01:49:06,655 - INFO - Verified 'MedNIST.tar.gz', md5: 0bc7306e7427e00ad1c5526a6677552d.\n",
            "2024-12-25 01:49:06,664 - INFO - Writing into directory: /tmp/tmpwu96p80w.\n"
          ]
        }
      ],
      "source": [
        "resource = \"https://github.com/Project-MONAI/MONAI-extra-test-data/releases/download/0.8.1/MedNIST.tar.gz\"\n",
        "md5 = \"0bc7306e7427e00ad1c5526a6677552d\"\n",
        "compressed_file = os.path.join(data_dir, \"MedNIST.tar.gz\")\n",
        "dataset_dir = os.path.join(data_dir, \"MedNIST\")\n",
        "\n",
        "if not os.path.exists(dataset_dir):\n",
        "    download_and_extract(resource, compressed_file, data_dir, md5)"
      ]
    },
    {
      "cell_type": "markdown",
      "metadata": {
        "id": "5ydpLP1gd0fc"
      },
      "source": [
        "## 设置确定性训练以确保可重复性\n",
        "\n",
        "希望这对你有帮助！如果你有更多问题或需要进一步的详细信息，请随时告诉我。"
      ]
    },
    {
      "cell_type": "code",
      "execution_count": 12,
      "metadata": {
        "id": "B5odm2gUd0fc"
      },
      "outputs": [],
      "source": [
        "set_determinism(seed=0)"
      ]
    },
    {
      "cell_type": "markdown",
      "metadata": {
        "id": "pd_fL6bkd0fd"
      },
      "source": [
        "## 从数据集文件夹中读取图像文件名\n",
        "\n",
        "首先，检查数据集文件并显示一些统计信息。  \n",
        "数据集中有 6 个文件夹：Hand、AbdomenCT、CXR、ChestCT、BreastMRI、HeadCT，  \n",
        "这些文件夹应作为标签来训练我们的分类模型。"
      ]
    },
    {
      "cell_type": "code",
      "execution_count": 14,
      "metadata": {
        "tags": [],
        "id": "RTDw95fFd0fd",
        "outputId": "2a68438d-48b9-446c-f0c9-27b1770016e5",
        "colab": {
          "base_uri": "https://localhost:8080/"
        }
      },
      "outputs": [
        {
          "output_type": "stream",
          "name": "stdout",
          "text": [
            "Total image count: 58954\n",
            "Image dimensions: 64 x 64\n",
            "Label names: ['AbdomenCT', 'BreastMRI', 'CXR', 'ChestCT', 'Hand', 'HeadCT']\n",
            "Label counts: [10000, 8954, 10000, 10000, 10000, 10000]\n"
          ]
        }
      ],
      "source": [
        "class_names = sorted(x for x in os.listdir(dataset_dir) if os.path.isdir(os.path.join(dataset_dir, x)))\n",
        "num_class = len(class_names)\n",
        "\n",
        "# Modified to include only image files\n",
        "image_files = [\n",
        "    [os.path.join(dataset_dir, class_names[i], x)\n",
        "     for x in os.listdir(os.path.join(dataset_dir, class_names[i]))\n",
        "     if os.path.isfile(os.path.join(dataset_dir, class_names[i], x))]  # Filter for files\n",
        "    for i in range(num_class)\n",
        "]\n",
        "\n",
        "num_each = [len(image_files[i]) for i in range(num_class)]\n",
        "image_files_list = []\n",
        "image_class = []\n",
        "for i in range(num_class):\n",
        "    image_files_list.extend(image_files[i])\n",
        "    image_class.extend([i] * num_each[i])\n",
        "num_total = len(image_class)\n",
        "image_width, image_height = PIL.Image.open(image_files_list[0]).size\n",
        "\n",
        "print(f\"Total image count: {num_total}\")\n",
        "print(f\"Image dimensions: {image_width} x {image_height}\")\n",
        "print(f\"Label names: {class_names}\")\n",
        "print(f\"Label counts: {num_each}\")"
      ]
    },
    {
      "cell_type": "markdown",
      "metadata": {
        "id": "jVtvTYByd0fd"
      },
      "source": [
        "## 随机从数据集中选择图像进行可视化和检查："
      ]
    },
    {
      "cell_type": "code",
      "execution_count": 15,
      "metadata": {
        "id": "VulN24BLd0fd",
        "outputId": "4e03a3ac-9cad-4ab4-83c6-cfcd58b493f2",
        "colab": {
          "base_uri": "https://localhost:8080/",
          "height": 661
        }
      },
      "outputs": [
        {
          "output_type": "display_data",
          "data": {
            "text/plain": [
              "<Figure size 800x800 with 9 Axes>"
            ],
            "image/png": "[encoded data removed]"
          },
          "metadata": {}
        }
      ],
      "source": [
        "plt.subplots(3, 3, figsize=(8, 8))\n",
        "for i, k in enumerate(np.random.randint(num_total, size=9)):\n",
        "    im = PIL.Image.open(image_files_list[k])\n",
        "    arr = np.array(im)\n",
        "    plt.subplot(3, 3, i + 1)\n",
        "    plt.xlabel(class_names[image_class[k]])\n",
        "    plt.imshow(arr, cmap=\"gray\", vmin=0, vmax=255)\n",
        "plt.tight_layout()\n",
        "plt.show()"
      ]
    },
    {
      "cell_type": "markdown",
      "metadata": {
        "id": "ozwKfED3d0fd"
      },
      "source": [
        "## 准备训练、验证和测试数据列表\n",
        "\n",
        "随机选择 10% 的数据集作为验证集，10% 作为测试集。"
      ]
    },
    {
      "cell_type": "code",
      "execution_count": 16,
      "metadata": {
        "tags": [],
        "id": "B6VZwleAd0fd",
        "outputId": "7fcc4d1c-d9e4-4948-c266-5ec55d0df651",
        "colab": {
          "base_uri": "https://localhost:8080/"
        }
      },
      "outputs": [
        {
          "output_type": "stream",
          "name": "stdout",
          "text": [
            "Training count: 47164, Validation count: 5895, Test count: 5895\n"
          ]
        }
      ],
      "source": [
        "val_frac = 0.1\n",
        "test_frac = 0.1\n",
        "length = len(image_files_list)\n",
        "indices = np.arange(length)\n",
        "np.random.shuffle(indices)\n",
        "\n",
        "test_split = int(test_frac * length)\n",
        "val_split = int(val_frac * length) + test_split\n",
        "test_indices = indices[:test_split]\n",
        "val_indices = indices[test_split:val_split]\n",
        "train_indices = indices[val_split:]\n",
        "\n",
        "train_x = [image_files_list[i] for i in train_indices]\n",
        "train_y = [image_class[i] for i in train_indices]\n",
        "val_x = [image_files_list[i] for i in val_indices]\n",
        "val_y = [image_class[i] for i in val_indices]\n",
        "test_x = [image_files_list[i] for i in test_indices]\n",
        "test_y = [image_class[i] for i in test_indices]\n",
        "\n",
        "print(f\"Training count: {len(train_x)}, Validation count: \" f\"{len(val_x)}, Test count: {len(test_x)}\")"
      ]
    },
    {
      "cell_type": "markdown",
      "metadata": {
        "id": "0Gn7Zeobd0fe"
      },
      "source": [
        "## 定义 MONAI 变换、数据集和数据加载器以预处理数据\n",
        "\n",
        "希望这对你有帮助！如果你有更多问题或需要进一步的详细信息，请随时告诉我。"
      ]
    },
    {
      "cell_type": "code",
      "execution_count": 17,
      "metadata": {
        "id": "14CtQJOCd0fe"
      },
      "outputs": [],
      "source": [
        "train_transforms = Compose(\n",
        "    [\n",
        "        LoadImage(image_only=True),\n",
        "        EnsureChannelFirst(),\n",
        "        ScaleIntensity(),\n",
        "        RandRotate(range_x=np.pi / 12, prob=0.5, keep_size=True),\n",
        "        RandFlip(spatial_axis=0, prob=0.5),\n",
        "        RandZoom(min_zoom=0.9, max_zoom=1.1, prob=0.5),\n",
        "    ]\n",
        ")\n",
        "\n",
        "val_transforms = Compose([LoadImage(image_only=True), EnsureChannelFirst(), ScaleIntensity()])\n",
        "\n",
        "y_pred_trans = Compose([Activations(softmax=True)])\n",
        "y_trans = Compose([AsDiscrete(to_onehot=num_class)])"
      ]
    },
    {
      "cell_type": "code",
      "execution_count": 18,
      "metadata": {
        "id": "DkFvw8J6d0fe",
        "outputId": "29b19d46-38ee-4c21-aa93-020d19507824",
        "colab": {
          "base_uri": "https://localhost:8080/"
        }
      },
      "outputs": [
        {
          "output_type": "stream",
          "name": "stderr",
          "text": [
            "/usr/local/lib/python3.10/dist-packages/torch/utils/data/dataloader.py:617: UserWarning: This DataLoader will create 10 worker processes in total. Our suggested max number of worker in current system is 2, which is smaller than what this DataLoader is going to create. Please be aware that excessive worker creation might get DataLoader running slow or even freeze, lower the worker number to avoid potential slowness/freeze if necessary.\n",
            "  warnings.warn(\n"
          ]
        }
      ],
      "source": [
        "class MedNISTDataset(torch.utils.data.Dataset):\n",
        "    def __init__(self, image_files, labels, transforms):\n",
        "        self.image_files = image_files\n",
        "        self.labels = labels\n",
        "        self.transforms = transforms\n",
        "\n",
        "    def __len__(self):\n",
        "        return len(self.image_files)\n",
        "\n",
        "    def __getitem__(self, index):\n",
        "        return self.transforms(self.image_files[index]), self.labels[index]\n",
        "\n",
        "\n",
        "train_ds = MedNISTDataset(train_x, train_y, train_transforms)\n",
        "train_loader = DataLoader(train_ds, batch_size=300, shuffle=True, num_workers=10)\n",
        "\n",
        "val_ds = MedNISTDataset(val_x, val_y, val_transforms)\n",
        "val_loader = DataLoader(val_ds, batch_size=300, num_workers=10)\n",
        "\n",
        "test_ds = MedNISTDataset(test_x, test_y, val_transforms)\n",
        "test_loader = DataLoader(test_ds, batch_size=300, num_workers=10)"
      ]
    },
    {
      "cell_type": "markdown",
      "metadata": {
        "id": "FJXq1TFVd0fe"
      },
      "source": [
        "## 定义网络和优化器\n",
        "\n",
        "1. 设置每批次模型更新的学习率。\n",
        "1. 设置总的训练轮数，因为我们有随机打乱和随机变换，所以每个轮次的训练数据都是不同的。  \n",
        "   由于这是一个入门教程，我们只训练 4 个轮次。  \n",
        "   如果训练 10 个轮次，模型可以在测试数据集上达到 100% 的准确率。\n",
        "1. 使用 MONAI 的 DenseNet 并移动到 GPU 设备上，这个 DenseNet 可以支持 2D 和 3D 分类任务。\n",
        "1. 使用 Adam 优化器。"
      ]
    },
    {
      "cell_type": "code",
      "execution_count": 19,
      "metadata": {
        "id": "pUV_ou1Od0fe"
      },
      "outputs": [],
      "source": [
        "device = torch.device(\"cuda\" if torch.cuda.is_available() else \"cpu\")\n",
        "model = DenseNet121(spatial_dims=2, in_channels=1, out_channels=num_class).to(device)\n",
        "loss_function = torch.nn.CrossEntropyLoss()\n",
        "optimizer = torch.optim.Adam(model.parameters(), 1e-5)\n",
        "max_epochs = 4\n",
        "val_interval = 1\n",
        "auc_metric = ROCAUCMetric()"
      ]
    },
    {
      "cell_type": "markdown",
      "metadata": {
        "id": "-vFggUE1d0fe"
      },
      "source": [
        "## 模型训练\n",
        "\n",
        "执行一个典型的 PyTorch 训练，运行 epoch 循环和 step 循环，并在每个 epoch 后进行验证。  \n",
        "如果获得最佳验证准确性，将保存模型权重到文件中。\n",
        "\n",
        "希望这对你有帮助！如果你有更多问题或需要进一步的详细信息，请随时告诉我。"
      ]
    },
    {
      "cell_type": "code",
      "execution_count": 21,
      "metadata": {
        "tags": [],
        "id": "h76Ebvpod0fe",
        "outputId": "c59792fb-7ff6-4674-859d-9a73ec62b84c",
        "colab": {
          "base_uri": "https://localhost:8080/"
        }
      },
      "outputs": [
        {
          "output_type": "stream",
          "name": "stdout",
          "text": [
            "----------\n",
            "epoch 1/4\n",
            "1/157, train_loss: 0.2125\n",
            "2/157, train_loss: 0.2182\n",
            "3/157, train_loss: 0.2489\n",
            "4/157, train_loss: 0.2415\n",
            "5/157, train_loss: 0.2152\n",
            "6/157, train_loss: 0.2191\n",
            "7/157, train_loss: 0.2085\n",
            "8/157, train_loss: 0.2011\n",
            "9/157, train_loss: 0.2523\n",
            "10/157, train_loss: 0.2412\n",
            "11/157, train_loss: 0.2180\n",
            "12/157, train_loss: 0.2194\n",
            "13/157, train_loss: 0.2181\n",
            "14/157, train_loss: 0.1848\n",
            "15/157, train_loss: 0.2013\n",
            "16/157, train_loss: 0.2358\n",
            "17/157, train_loss: 0.2050\n",
            "18/157, train_loss: 0.2422\n",
            "19/157, train_loss: 0.2085\n",
            "20/157, train_loss: 0.2042\n",
            "21/157, train_loss: 0.1947\n",
            "22/157, train_loss: 0.2335\n",
            "23/157, train_loss: 0.2019\n",
            "24/157, train_loss: 0.1829\n",
            "25/157, train_loss: 0.2666\n",
            "26/157, train_loss: 0.2068\n",
            "27/157, train_loss: 0.1861\n",
            "28/157, train_loss: 0.2184\n",
            "29/157, train_loss: 0.1714\n",
            "30/157, train_loss: 0.1860\n",
            "31/157, train_loss: 0.2170\n",
            "32/157, train_loss: 0.1736\n",
            "33/157, train_loss: 0.2027\n",
            "34/157, train_loss: 0.1672\n",
            "35/157, train_loss: 0.1734\n",
            "36/157, train_loss: 0.2007\n",
            "37/157, train_loss: 0.1800\n",
            "38/157, train_loss: 0.1934\n",
            "39/157, train_loss: 0.1973\n",
            "40/157, train_loss: 0.2021\n",
            "41/157, train_loss: 0.1778\n",
            "42/157, train_loss: 0.1498\n",
            "43/157, train_loss: 0.1856\n",
            "44/157, train_loss: 0.1647\n",
            "45/157, train_loss: 0.1580\n",
            "46/157, train_loss: 0.2149\n",
            "47/157, train_loss: 0.1543\n",
            "48/157, train_loss: 0.1539\n",
            "49/157, train_loss: 0.1563\n",
            "50/157, train_loss: 0.1518\n",
            "51/157, train_loss: 0.1934\n",
            "52/157, train_loss: 0.1373\n",
            "53/157, train_loss: 0.1643\n",
            "54/157, train_loss: 0.1880\n",
            "55/157, train_loss: 0.1571\n",
            "56/157, train_loss: 0.1624\n",
            "57/157, train_loss: 0.1514\n",
            "58/157, train_loss: 0.1681\n",
            "59/157, train_loss: 0.1448\n",
            "60/157, train_loss: 0.1752\n",
            "61/157, train_loss: 0.1297\n",
            "62/157, train_loss: 0.1763\n",
            "63/157, train_loss: 0.1584\n",
            "64/157, train_loss: 0.1157\n",
            "65/157, train_loss: 0.1287\n",
            "66/157, train_loss: 0.1377\n",
            "67/157, train_loss: 0.1420\n",
            "68/157, train_loss: 0.1476\n",
            "69/157, train_loss: 0.1378\n",
            "70/157, train_loss: 0.1422\n",
            "71/157, train_loss: 0.1478\n",
            "72/157, train_loss: 0.1230\n",
            "73/157, train_loss: 0.1374\n",
            "74/157, train_loss: 0.1417\n",
            "75/157, train_loss: 0.1415\n",
            "76/157, train_loss: 0.1119\n",
            "77/157, train_loss: 0.1570\n",
            "78/157, train_loss: 0.1232\n",
            "79/157, train_loss: 0.1367\n",
            "80/157, train_loss: 0.1320\n",
            "81/157, train_loss: 0.1506\n",
            "82/157, train_loss: 0.1169\n",
            "83/157, train_loss: 0.1340\n",
            "84/157, train_loss: 0.1300\n",
            "85/157, train_loss: 0.1134\n",
            "86/157, train_loss: 0.1280\n",
            "87/157, train_loss: 0.1281\n",
            "88/157, train_loss: 0.1153\n",
            "89/157, train_loss: 0.1339\n",
            "90/157, train_loss: 0.1144\n",
            "91/157, train_loss: 0.1438\n",
            "92/157, train_loss: 0.1221\n",
            "93/157, train_loss: 0.1380\n",
            "94/157, train_loss: 0.1284\n",
            "95/157, train_loss: 0.1141\n",
            "96/157, train_loss: 0.1152\n",
            "97/157, train_loss: 0.1416\n",
            "98/157, train_loss: 0.1221\n",
            "99/157, train_loss: 0.1253\n",
            "100/157, train_loss: 0.1056\n",
            "101/157, train_loss: 0.1215\n",
            "102/157, train_loss: 0.1079\n",
            "103/157, train_loss: 0.1181\n",
            "104/157, train_loss: 0.1182\n",
            "105/157, train_loss: 0.1100\n",
            "106/157, train_loss: 0.1271\n",
            "107/157, train_loss: 0.1287\n",
            "108/157, train_loss: 0.0846\n",
            "109/157, train_loss: 0.1303\n",
            "110/157, train_loss: 0.1041\n",
            "111/157, train_loss: 0.1563\n",
            "112/157, train_loss: 0.1030\n",
            "113/157, train_loss: 0.1415\n",
            "114/157, train_loss: 0.1039\n",
            "115/157, train_loss: 0.1112\n",
            "116/157, train_loss: 0.1226\n",
            "117/157, train_loss: 0.1076\n",
            "118/157, train_loss: 0.1122\n",
            "119/157, train_loss: 0.1015\n",
            "120/157, train_loss: 0.1032\n",
            "121/157, train_loss: 0.1151\n",
            "122/157, train_loss: 0.1091\n",
            "123/157, train_loss: 0.1087\n",
            "124/157, train_loss: 0.1008\n",
            "125/157, train_loss: 0.1011\n",
            "126/157, train_loss: 0.1090\n",
            "127/157, train_loss: 0.1074\n",
            "128/157, train_loss: 0.0921\n",
            "129/157, train_loss: 0.1134\n",
            "130/157, train_loss: 0.1000\n",
            "131/157, train_loss: 0.0978\n",
            "132/157, train_loss: 0.0888\n",
            "133/157, train_loss: 0.1162\n",
            "134/157, train_loss: 0.1271\n",
            "135/157, train_loss: 0.1023\n",
            "136/157, train_loss: 0.0834\n",
            "137/157, train_loss: 0.0916\n",
            "138/157, train_loss: 0.1223\n",
            "139/157, train_loss: 0.0783\n",
            "140/157, train_loss: 0.0959\n",
            "141/157, train_loss: 0.0873\n",
            "142/157, train_loss: 0.1049\n",
            "143/157, train_loss: 0.0854\n",
            "144/157, train_loss: 0.1030\n",
            "145/157, train_loss: 0.1161\n",
            "146/157, train_loss: 0.0998\n",
            "147/157, train_loss: 0.0873\n",
            "148/157, train_loss: 0.0898\n",
            "149/157, train_loss: 0.0841\n",
            "150/157, train_loss: 0.0936\n",
            "151/157, train_loss: 0.0911\n",
            "152/157, train_loss: 0.0945\n",
            "153/157, train_loss: 0.1009\n",
            "154/157, train_loss: 0.0910\n",
            "155/157, train_loss: 0.1136\n",
            "156/157, train_loss: 0.0938\n",
            "157/157, train_loss: 0.0763\n",
            "158/157, train_loss: 0.1492\n",
            "epoch 1 average loss: 0.1461\n",
            "saved new best metric model\n",
            "current epoch: 1 current AUC: 0.9998 current accuracy: 0.9874 best AUC: 0.9998 at epoch: 1\n",
            "----------\n",
            "epoch 2/4\n",
            "1/157, train_loss: 0.1044\n",
            "2/157, train_loss: 0.0979\n",
            "3/157, train_loss: 0.0993\n",
            "4/157, train_loss: 0.0793\n",
            "5/157, train_loss: 0.0688\n",
            "6/157, train_loss: 0.0783\n",
            "7/157, train_loss: 0.1019\n",
            "8/157, train_loss: 0.0644\n",
            "9/157, train_loss: 0.0821\n",
            "10/157, train_loss: 0.1067\n",
            "11/157, train_loss: 0.0632\n",
            "12/157, train_loss: 0.0810\n",
            "13/157, train_loss: 0.0886\n",
            "14/157, train_loss: 0.0677\n",
            "15/157, train_loss: 0.0931\n",
            "16/157, train_loss: 0.0910\n",
            "17/157, train_loss: 0.0801\n",
            "18/157, train_loss: 0.0688\n",
            "19/157, train_loss: 0.0790\n",
            "20/157, train_loss: 0.0753\n",
            "21/157, train_loss: 0.0689\n",
            "22/157, train_loss: 0.0773\n",
            "23/157, train_loss: 0.0801\n",
            "24/157, train_loss: 0.0788\n",
            "25/157, train_loss: 0.0914\n",
            "26/157, train_loss: 0.0731\n",
            "27/157, train_loss: 0.0855\n",
            "28/157, train_loss: 0.0670\n",
            "29/157, train_loss: 0.0739\n",
            "30/157, train_loss: 0.0897\n",
            "31/157, train_loss: 0.0622\n",
            "32/157, train_loss: 0.0807\n",
            "33/157, train_loss: 0.0623\n",
            "34/157, train_loss: 0.0693\n",
            "35/157, train_loss: 0.0546\n",
            "36/157, train_loss: 0.0680\n",
            "37/157, train_loss: 0.0863\n",
            "38/157, train_loss: 0.0845\n",
            "39/157, train_loss: 0.0597\n",
            "40/157, train_loss: 0.0727\n",
            "41/157, train_loss: 0.0813\n",
            "42/157, train_loss: 0.0945\n",
            "43/157, train_loss: 0.0759\n",
            "44/157, train_loss: 0.0807\n",
            "45/157, train_loss: 0.0697\n",
            "46/157, train_loss: 0.0851\n",
            "47/157, train_loss: 0.0603\n",
            "48/157, train_loss: 0.0847\n",
            "49/157, train_loss: 0.0892\n",
            "50/157, train_loss: 0.0732\n",
            "51/157, train_loss: 0.0935\n",
            "52/157, train_loss: 0.0894\n",
            "53/157, train_loss: 0.0632\n",
            "54/157, train_loss: 0.0806\n",
            "55/157, train_loss: 0.0602\n",
            "56/157, train_loss: 0.0837\n",
            "57/157, train_loss: 0.0610\n",
            "58/157, train_loss: 0.0696\n",
            "59/157, train_loss: 0.0643\n",
            "60/157, train_loss: 0.0647\n",
            "61/157, train_loss: 0.0843\n",
            "62/157, train_loss: 0.0909\n",
            "63/157, train_loss: 0.0678\n",
            "64/157, train_loss: 0.0631\n",
            "65/157, train_loss: 0.0805\n",
            "66/157, train_loss: 0.0840\n",
            "67/157, train_loss: 0.0706\n",
            "68/157, train_loss: 0.0651\n",
            "69/157, train_loss: 0.0530\n",
            "70/157, train_loss: 0.0771\n",
            "71/157, train_loss: 0.0694\n",
            "72/157, train_loss: 0.0596\n",
            "73/157, train_loss: 0.0863\n",
            "74/157, train_loss: 0.0555\n",
            "75/157, train_loss: 0.0683\n",
            "76/157, train_loss: 0.0633\n",
            "77/157, train_loss: 0.0658\n",
            "78/157, train_loss: 0.0682\n",
            "79/157, train_loss: 0.0604\n",
            "80/157, train_loss: 0.0669\n",
            "81/157, train_loss: 0.0683\n",
            "82/157, train_loss: 0.0528\n",
            "83/157, train_loss: 0.0573\n",
            "84/157, train_loss: 0.0733\n",
            "85/157, train_loss: 0.0654\n",
            "86/157, train_loss: 0.0607\n",
            "87/157, train_loss: 0.0761\n",
            "88/157, train_loss: 0.0419\n",
            "89/157, train_loss: 0.0500\n",
            "90/157, train_loss: 0.0840\n",
            "91/157, train_loss: 0.0424\n",
            "92/157, train_loss: 0.0620\n",
            "93/157, train_loss: 0.0560\n",
            "94/157, train_loss: 0.0431\n",
            "95/157, train_loss: 0.0515\n",
            "96/157, train_loss: 0.0608\n",
            "97/157, train_loss: 0.0488\n",
            "98/157, train_loss: 0.0870\n",
            "99/157, train_loss: 0.0627\n",
            "100/157, train_loss: 0.0512\n",
            "101/157, train_loss: 0.0555\n",
            "102/157, train_loss: 0.0639\n",
            "103/157, train_loss: 0.0383\n",
            "104/157, train_loss: 0.0540\n",
            "105/157, train_loss: 0.0733\n",
            "106/157, train_loss: 0.0472\n",
            "107/157, train_loss: 0.0540\n",
            "108/157, train_loss: 0.0609\n",
            "109/157, train_loss: 0.0644\n",
            "110/157, train_loss: 0.0559\n",
            "111/157, train_loss: 0.0597\n",
            "112/157, train_loss: 0.0659\n",
            "113/157, train_loss: 0.0437\n",
            "114/157, train_loss: 0.0496\n",
            "115/157, train_loss: 0.0472\n",
            "116/157, train_loss: 0.0484\n",
            "117/157, train_loss: 0.0445\n",
            "118/157, train_loss: 0.0424\n",
            "119/157, train_loss: 0.0520\n",
            "120/157, train_loss: 0.0614\n",
            "121/157, train_loss: 0.0640\n",
            "122/157, train_loss: 0.0590\n",
            "123/157, train_loss: 0.0395\n",
            "124/157, train_loss: 0.0506\n",
            "125/157, train_loss: 0.0533\n",
            "126/157, train_loss: 0.0590\n",
            "127/157, train_loss: 0.0410\n",
            "128/157, train_loss: 0.0727\n",
            "129/157, train_loss: 0.0538\n",
            "130/157, train_loss: 0.0406\n",
            "131/157, train_loss: 0.0567\n",
            "132/157, train_loss: 0.0705\n",
            "133/157, train_loss: 0.0634\n",
            "134/157, train_loss: 0.0525\n",
            "135/157, train_loss: 0.0453\n",
            "136/157, train_loss: 0.0463\n",
            "137/157, train_loss: 0.0447\n",
            "138/157, train_loss: 0.0708\n",
            "139/157, train_loss: 0.0455\n",
            "140/157, train_loss: 0.0406\n",
            "141/157, train_loss: 0.0469\n",
            "142/157, train_loss: 0.0617\n",
            "143/157, train_loss: 0.0425\n",
            "144/157, train_loss: 0.0700\n",
            "145/157, train_loss: 0.0398\n",
            "146/157, train_loss: 0.0505\n",
            "147/157, train_loss: 0.0403\n",
            "148/157, train_loss: 0.0547\n",
            "149/157, train_loss: 0.0334\n",
            "150/157, train_loss: 0.0464\n",
            "151/157, train_loss: 0.0501\n",
            "152/157, train_loss: 0.0515\n",
            "153/157, train_loss: 0.0301\n",
            "154/157, train_loss: 0.0374\n",
            "155/157, train_loss: 0.0491\n",
            "156/157, train_loss: 0.0542\n",
            "157/157, train_loss: 0.0383\n",
            "158/157, train_loss: 0.0288\n",
            "epoch 2 average loss: 0.0649\n",
            "saved new best metric model\n",
            "current epoch: 2 current AUC: 1.0000 current accuracy: 0.9939 best AUC: 1.0000 at epoch: 2\n",
            "----------\n",
            "epoch 3/4\n",
            "1/157, train_loss: 0.0373\n",
            "2/157, train_loss: 0.0509\n",
            "3/157, train_loss: 0.0429\n",
            "4/157, train_loss: 0.0340\n",
            "5/157, train_loss: 0.0340\n",
            "6/157, train_loss: 0.0524\n",
            "7/157, train_loss: 0.0581\n",
            "8/157, train_loss: 0.0397\n",
            "9/157, train_loss: 0.0374\n",
            "10/157, train_loss: 0.0391\n",
            "11/157, train_loss: 0.0440\n",
            "12/157, train_loss: 0.0426\n",
            "13/157, train_loss: 0.0654\n",
            "14/157, train_loss: 0.0371\n",
            "15/157, train_loss: 0.0357\n",
            "16/157, train_loss: 0.0565\n",
            "17/157, train_loss: 0.0495\n",
            "18/157, train_loss: 0.0708\n",
            "19/157, train_loss: 0.0333\n",
            "20/157, train_loss: 0.0436\n",
            "21/157, train_loss: 0.0463\n",
            "22/157, train_loss: 0.0573\n",
            "23/157, train_loss: 0.0360\n",
            "24/157, train_loss: 0.0395\n",
            "25/157, train_loss: 0.0448\n",
            "26/157, train_loss: 0.0614\n",
            "27/157, train_loss: 0.0514\n",
            "28/157, train_loss: 0.0361\n",
            "29/157, train_loss: 0.0397\n",
            "30/157, train_loss: 0.0447\n",
            "31/157, train_loss: 0.0367\n",
            "32/157, train_loss: 0.0402\n",
            "33/157, train_loss: 0.0415\n",
            "34/157, train_loss: 0.0417\n",
            "35/157, train_loss: 0.0266\n",
            "36/157, train_loss: 0.0497\n",
            "37/157, train_loss: 0.0443\n",
            "38/157, train_loss: 0.0431\n",
            "39/157, train_loss: 0.0385\n",
            "40/157, train_loss: 0.0387\n",
            "41/157, train_loss: 0.0549\n",
            "42/157, train_loss: 0.0486\n",
            "43/157, train_loss: 0.0344\n",
            "44/157, train_loss: 0.0386\n",
            "45/157, train_loss: 0.0271\n",
            "46/157, train_loss: 0.0320\n",
            "47/157, train_loss: 0.0500\n",
            "48/157, train_loss: 0.0537\n",
            "49/157, train_loss: 0.0404\n",
            "50/157, train_loss: 0.0509\n",
            "51/157, train_loss: 0.0320\n",
            "52/157, train_loss: 0.0357\n",
            "53/157, train_loss: 0.0476\n",
            "54/157, train_loss: 0.0292\n",
            "55/157, train_loss: 0.0324\n",
            "56/157, train_loss: 0.0273\n",
            "57/157, train_loss: 0.0379\n",
            "58/157, train_loss: 0.0434\n",
            "59/157, train_loss: 0.0276\n",
            "60/157, train_loss: 0.0369\n",
            "61/157, train_loss: 0.0247\n",
            "62/157, train_loss: 0.0657\n",
            "63/157, train_loss: 0.0527\n",
            "64/157, train_loss: 0.0328\n",
            "65/157, train_loss: 0.0376\n",
            "66/157, train_loss: 0.0407\n",
            "67/157, train_loss: 0.0289\n",
            "68/157, train_loss: 0.0339\n",
            "69/157, train_loss: 0.0478\n",
            "70/157, train_loss: 0.0412\n",
            "71/157, train_loss: 0.0333\n",
            "72/157, train_loss: 0.0446\n",
            "73/157, train_loss: 0.0507\n",
            "74/157, train_loss: 0.0383\n",
            "75/157, train_loss: 0.0373\n",
            "76/157, train_loss: 0.0279\n",
            "77/157, train_loss: 0.0331\n",
            "78/157, train_loss: 0.0332\n",
            "79/157, train_loss: 0.0379\n",
            "80/157, train_loss: 0.0363\n",
            "81/157, train_loss: 0.0293\n",
            "82/157, train_loss: 0.0402\n",
            "83/157, train_loss: 0.0281\n",
            "84/157, train_loss: 0.0277\n",
            "85/157, train_loss: 0.0437\n",
            "86/157, train_loss: 0.0460\n",
            "87/157, train_loss: 0.0332\n",
            "88/157, train_loss: 0.0389\n",
            "89/157, train_loss: 0.0382\n",
            "90/157, train_loss: 0.0327\n",
            "91/157, train_loss: 0.0246\n",
            "92/157, train_loss: 0.0407\n",
            "93/157, train_loss: 0.0299\n",
            "94/157, train_loss: 0.0446\n",
            "95/157, train_loss: 0.0323\n",
            "96/157, train_loss: 0.0460\n",
            "97/157, train_loss: 0.0281\n",
            "98/157, train_loss: 0.0772\n",
            "99/157, train_loss: 0.0403\n",
            "100/157, train_loss: 0.0413\n",
            "101/157, train_loss: 0.0504\n",
            "102/157, train_loss: 0.0480\n",
            "103/157, train_loss: 0.0321\n",
            "104/157, train_loss: 0.0250\n",
            "105/157, train_loss: 0.0331\n",
            "106/157, train_loss: 0.0282\n",
            "107/157, train_loss: 0.0381\n",
            "108/157, train_loss: 0.0405\n",
            "109/157, train_loss: 0.0269\n",
            "110/157, train_loss: 0.0350\n",
            "111/157, train_loss: 0.0303\n",
            "112/157, train_loss: 0.0356\n",
            "113/157, train_loss: 0.0311\n",
            "114/157, train_loss: 0.0273\n",
            "115/157, train_loss: 0.0337\n",
            "116/157, train_loss: 0.0413\n",
            "117/157, train_loss: 0.0305\n",
            "118/157, train_loss: 0.0467\n",
            "119/157, train_loss: 0.0376\n",
            "120/157, train_loss: 0.0623\n",
            "121/157, train_loss: 0.0480\n",
            "122/157, train_loss: 0.0287\n",
            "123/157, train_loss: 0.0268\n",
            "124/157, train_loss: 0.0280\n",
            "125/157, train_loss: 0.0252\n",
            "126/157, train_loss: 0.0411\n",
            "127/157, train_loss: 0.0514\n",
            "128/157, train_loss: 0.0382\n",
            "129/157, train_loss: 0.0489\n",
            "130/157, train_loss: 0.0245\n",
            "131/157, train_loss: 0.0418\n",
            "132/157, train_loss: 0.0347\n",
            "133/157, train_loss: 0.0357\n",
            "134/157, train_loss: 0.0277\n",
            "135/157, train_loss: 0.0333\n",
            "136/157, train_loss: 0.0346\n",
            "137/157, train_loss: 0.0329\n",
            "138/157, train_loss: 0.0428\n",
            "139/157, train_loss: 0.0268\n",
            "140/157, train_loss: 0.0368\n",
            "141/157, train_loss: 0.0364\n",
            "142/157, train_loss: 0.0278\n",
            "143/157, train_loss: 0.0205\n",
            "144/157, train_loss: 0.0357\n",
            "145/157, train_loss: 0.0402\n",
            "146/157, train_loss: 0.0303\n",
            "147/157, train_loss: 0.0277\n",
            "148/157, train_loss: 0.0271\n",
            "149/157, train_loss: 0.0211\n",
            "150/157, train_loss: 0.0303\n",
            "151/157, train_loss: 0.0329\n",
            "152/157, train_loss: 0.0373\n",
            "153/157, train_loss: 0.0259\n",
            "154/157, train_loss: 0.0250\n",
            "155/157, train_loss: 0.0349\n",
            "156/157, train_loss: 0.0416\n",
            "157/157, train_loss: 0.0429\n",
            "158/157, train_loss: 0.0411\n",
            "epoch 3 average loss: 0.0386\n",
            "saved new best metric model\n",
            "current epoch: 3 current AUC: 1.0000 current accuracy: 0.9961 best AUC: 1.0000 at epoch: 3\n",
            "----------\n",
            "epoch 4/4\n",
            "1/157, train_loss: 0.0513\n",
            "2/157, train_loss: 0.0315\n",
            "3/157, train_loss: 0.0204\n",
            "4/157, train_loss: 0.0197\n",
            "5/157, train_loss: 0.0215\n",
            "6/157, train_loss: 0.0249\n",
            "7/157, train_loss: 0.0242\n",
            "8/157, train_loss: 0.0357\n",
            "9/157, train_loss: 0.0223\n",
            "10/157, train_loss: 0.0364\n",
            "11/157, train_loss: 0.0230\n",
            "12/157, train_loss: 0.0342\n",
            "13/157, train_loss: 0.0442\n",
            "14/157, train_loss: 0.0380\n",
            "15/157, train_loss: 0.0332\n",
            "16/157, train_loss: 0.0185\n",
            "17/157, train_loss: 0.0333\n",
            "18/157, train_loss: 0.0239\n",
            "19/157, train_loss: 0.0256\n",
            "20/157, train_loss: 0.0309\n",
            "21/157, train_loss: 0.0198\n",
            "22/157, train_loss: 0.0732\n",
            "23/157, train_loss: 0.0311\n",
            "24/157, train_loss: 0.0350\n",
            "25/157, train_loss: 0.0221\n",
            "26/157, train_loss: 0.0185\n",
            "27/157, train_loss: 0.0357\n",
            "28/157, train_loss: 0.0159\n",
            "29/157, train_loss: 0.0274\n",
            "30/157, train_loss: 0.0278\n",
            "31/157, train_loss: 0.0317\n",
            "32/157, train_loss: 0.0327\n",
            "33/157, train_loss: 0.0223\n",
            "34/157, train_loss: 0.0279\n",
            "35/157, train_loss: 0.0198\n",
            "36/157, train_loss: 0.0342\n",
            "37/157, train_loss: 0.0373\n",
            "38/157, train_loss: 0.0290\n",
            "39/157, train_loss: 0.0488\n",
            "40/157, train_loss: 0.0257\n",
            "41/157, train_loss: 0.0228\n",
            "42/157, train_loss: 0.0267\n",
            "43/157, train_loss: 0.0211\n",
            "44/157, train_loss: 0.0239\n",
            "45/157, train_loss: 0.0281\n",
            "46/157, train_loss: 0.0217\n",
            "47/157, train_loss: 0.0226\n",
            "48/157, train_loss: 0.0183\n",
            "49/157, train_loss: 0.0273\n",
            "50/157, train_loss: 0.0219\n",
            "51/157, train_loss: 0.0298\n",
            "52/157, train_loss: 0.0261\n",
            "53/157, train_loss: 0.0257\n",
            "54/157, train_loss: 0.0187\n",
            "55/157, train_loss: 0.0267\n",
            "56/157, train_loss: 0.0230\n",
            "57/157, train_loss: 0.0406\n",
            "58/157, train_loss: 0.0284\n",
            "59/157, train_loss: 0.0192\n",
            "60/157, train_loss: 0.0210\n",
            "61/157, train_loss: 0.0254\n",
            "62/157, train_loss: 0.0320\n",
            "63/157, train_loss: 0.0259\n",
            "64/157, train_loss: 0.0191\n",
            "65/157, train_loss: 0.0227\n",
            "66/157, train_loss: 0.0236\n",
            "67/157, train_loss: 0.0276\n",
            "68/157, train_loss: 0.0472\n",
            "69/157, train_loss: 0.0286\n",
            "70/157, train_loss: 0.0483\n",
            "71/157, train_loss: 0.0252\n",
            "72/157, train_loss: 0.0345\n",
            "73/157, train_loss: 0.0237\n",
            "74/157, train_loss: 0.0191\n",
            "75/157, train_loss: 0.0242\n",
            "76/157, train_loss: 0.0268\n",
            "77/157, train_loss: 0.0311\n",
            "78/157, train_loss: 0.0203\n",
            "79/157, train_loss: 0.0222\n",
            "80/157, train_loss: 0.0206\n",
            "81/157, train_loss: 0.0396\n",
            "82/157, train_loss: 0.0156\n",
            "83/157, train_loss: 0.0164\n",
            "84/157, train_loss: 0.0233\n",
            "85/157, train_loss: 0.0267\n",
            "86/157, train_loss: 0.0242\n",
            "87/157, train_loss: 0.0264\n",
            "88/157, train_loss: 0.0273\n",
            "89/157, train_loss: 0.0285\n",
            "90/157, train_loss: 0.0369\n",
            "91/157, train_loss: 0.0227\n",
            "92/157, train_loss: 0.0267\n",
            "93/157, train_loss: 0.0226\n",
            "94/157, train_loss: 0.0329\n",
            "95/157, train_loss: 0.0143\n",
            "96/157, train_loss: 0.0292\n",
            "97/157, train_loss: 0.0296\n",
            "98/157, train_loss: 0.0308\n",
            "99/157, train_loss: 0.0285\n",
            "100/157, train_loss: 0.0229\n",
            "101/157, train_loss: 0.0277\n",
            "102/157, train_loss: 0.0224\n",
            "103/157, train_loss: 0.0189\n",
            "104/157, train_loss: 0.0206\n",
            "105/157, train_loss: 0.0193\n",
            "106/157, train_loss: 0.0210\n",
            "107/157, train_loss: 0.0240\n",
            "108/157, train_loss: 0.0197\n",
            "109/157, train_loss: 0.0202\n",
            "110/157, train_loss: 0.0238\n",
            "111/157, train_loss: 0.0387\n",
            "112/157, train_loss: 0.0133\n",
            "113/157, train_loss: 0.0248\n",
            "114/157, train_loss: 0.0180\n",
            "115/157, train_loss: 0.0190\n",
            "116/157, train_loss: 0.0175\n",
            "117/157, train_loss: 0.0337\n",
            "118/157, train_loss: 0.0344\n",
            "119/157, train_loss: 0.0196\n",
            "120/157, train_loss: 0.0389\n",
            "121/157, train_loss: 0.0294\n",
            "122/157, train_loss: 0.0225\n",
            "123/157, train_loss: 0.0265\n",
            "124/157, train_loss: 0.0138\n",
            "125/157, train_loss: 0.0155\n",
            "126/157, train_loss: 0.0197\n",
            "127/157, train_loss: 0.0217\n",
            "128/157, train_loss: 0.0196\n",
            "129/157, train_loss: 0.0283\n",
            "130/157, train_loss: 0.0173\n",
            "131/157, train_loss: 0.0264\n",
            "132/157, train_loss: 0.0339\n",
            "133/157, train_loss: 0.0402\n",
            "134/157, train_loss: 0.0518\n",
            "135/157, train_loss: 0.0162\n",
            "136/157, train_loss: 0.0296\n",
            "137/157, train_loss: 0.0260\n",
            "138/157, train_loss: 0.0117\n",
            "139/157, train_loss: 0.0228\n",
            "140/157, train_loss: 0.0257\n",
            "141/157, train_loss: 0.0253\n",
            "142/157, train_loss: 0.0262\n",
            "143/157, train_loss: 0.0500\n",
            "144/157, train_loss: 0.0158\n",
            "145/157, train_loss: 0.0156\n",
            "146/157, train_loss: 0.0193\n",
            "147/157, train_loss: 0.0228\n",
            "148/157, train_loss: 0.0324\n",
            "149/157, train_loss: 0.0263\n",
            "150/157, train_loss: 0.0142\n",
            "151/157, train_loss: 0.0279\n",
            "152/157, train_loss: 0.0269\n",
            "153/157, train_loss: 0.0116\n",
            "154/157, train_loss: 0.0289\n",
            "155/157, train_loss: 0.0138\n",
            "156/157, train_loss: 0.0242\n",
            "157/157, train_loss: 0.0193\n",
            "158/157, train_loss: 0.0643\n",
            "epoch 4 average loss: 0.0267\n",
            "saved new best metric model\n",
            "current epoch: 4 current AUC: 1.0000 current accuracy: 0.9980 best AUC: 1.0000 at epoch: 4\n",
            "train completed, best_metric: 1.0000 at epoch: 4\n"
          ]
        }
      ],
      "source": [
        "best_metric = -1\n",
        "best_metric_epoch = -1\n",
        "epoch_loss_values = []\n",
        "metric_values = []\n",
        "writer = SummaryWriter()\n",
        "\n",
        "for epoch in range(max_epochs):\n",
        "    print(\"-\" * 10)\n",
        "    print(f\"epoch {epoch + 1}/{max_epochs}\")\n",
        "    model.train()\n",
        "    epoch_loss = 0\n",
        "    step = 0\n",
        "    for batch_data in train_loader:\n",
        "        step += 1\n",
        "        inputs, labels = batch_data[0].to(device), batch_data[1].to(device)\n",
        "        optimizer.zero_grad()\n",
        "        outputs = model(inputs)\n",
        "        loss = loss_function(outputs, labels)\n",
        "        loss.backward()\n",
        "        optimizer.step()\n",
        "        epoch_loss += loss.item()\n",
        "        print(f\"{step}/{len(train_ds) // train_loader.batch_size}, \" f\"train_loss: {loss.item():.4f}\")\n",
        "        epoch_len = len(train_ds) // train_loader.batch_size\n",
        "        writer.add_scalar(\"train_loss\", loss.item(), epoch_len * epoch + step)\n",
        "    epoch_loss /= step\n",
        "    epoch_loss_values.append(epoch_loss)\n",
        "    print(f\"epoch {epoch + 1} average loss: {epoch_loss:.4f}\")\n",
        "\n",
        "    if (epoch + 1) % val_interval == 0:\n",
        "        model.eval()\n",
        "        with torch.no_grad():\n",
        "            y_pred = torch.tensor([], dtype=torch.float32, device=device)\n",
        "            y = torch.tensor([], dtype=torch.long, device=device)\n",
        "            for val_data in val_loader:\n",
        "                val_images, val_labels = (\n",
        "                    val_data[0].to(device),\n",
        "                    val_data[1].to(device),\n",
        "                )\n",
        "                y_pred = torch.cat([y_pred, model(val_images)], dim=0)\n",
        "                y = torch.cat([y, val_labels], dim=0)\n",
        "            y_onehot = [y_trans(i) for i in decollate_batch(y, detach=False)]\n",
        "            y_pred_act = [y_pred_trans(i) for i in decollate_batch(y_pred)]\n",
        "            auc_metric(y_pred_act, y_onehot)\n",
        "            result = auc_metric.aggregate()\n",
        "            auc_metric.reset()\n",
        "            del y_pred_act, y_onehot\n",
        "            metric_values.append(result)\n",
        "            acc_value = torch.eq(y_pred.argmax(dim=1), y)\n",
        "            acc_metric = acc_value.sum().item() / len(acc_value)\n",
        "            if result > best_metric:\n",
        "                best_metric = result\n",
        "                best_metric_epoch = epoch + 1\n",
        "                # Changed root_dir to data_dir\n",
        "                torch.save(model.state_dict(), os.path.join(data_dir, \"best_metric_model.pth\"))\n",
        "                print(\"saved new best metric model\")\n",
        "            print(\n",
        "                f\"current epoch: {epoch + 1} current AUC: {result:.4f}\"\n",
        "                f\" current accuracy: {acc_metric:.4f}\"\n",
        "                f\" best AUC: {best_metric:.4f}\"\n",
        "                f\" at epoch: {best_metric_epoch}\"\n",
        "            )\n",
        "            writer.add_scalar(\"val_accuracy\", acc_metric, epoch + 1)\n",
        "\n",
        "print(f\"train completed, best_metric: {best_metric:.4f} \" f\"at epoch: {best_metric_epoch}\")\n",
        "writer.close()"
      ]
    },
    {
      "cell_type": "markdown",
      "metadata": {
        "id": "BSF9yfgUd0ff"
      },
      "source": [
        "## 绘制损失和指标"
      ]
    },
    {
      "cell_type": "code",
      "execution_count": 22,
      "metadata": {
        "id": "ULLwicecd0ff",
        "outputId": "52a05e20-2386-4b7c-e9d8-7de61256f85e",
        "colab": {
          "base_uri": "https://localhost:8080/",
          "height": 364
        }
      },
      "outputs": [
        {
          "output_type": "display_data",
          "data": {
            "text/plain": [
              "<Figure size 1200x600 with 2 Axes>"
            ],
            "image/png": "[encoded data removed]"
          },
          "metadata": {}
        }
      ],
      "source": [
        "plt.figure(\"train\", (12, 6))\n",
        "plt.subplot(1, 2, 1)\n",
        "plt.title(\"Epoch Average Loss\")\n",
        "x = [i + 1 for i in range(len(epoch_loss_values))]\n",
        "y = epoch_loss_values\n",
        "plt.xlabel(\"epoch\")\n",
        "plt.plot(x, y)\n",
        "plt.subplot(1, 2, 2)\n",
        "plt.title(\"Val AUC\")\n",
        "x = [val_interval * (i + 1) for i in range(len(metric_values))]\n",
        "y = metric_values\n",
        "plt.xlabel(\"epoch\")\n",
        "plt.plot(x, y)\n",
        "plt.show()"
      ]
    },
    {
      "cell_type": "markdown",
      "metadata": {
        "id": "yem-H4nUd0ff"
      },
      "source": [
        "## 在测试数据集上评估模型\n",
        "\n",
        "在训练和验证之后，我们已经在验证测试中得到了最佳模型。  \n",
        "我们需要在测试数据集上评估模型，以检查它是否稳健且不过拟合。  \n",
        "我们将使用这些预测生成分类报告。\n",
        "\n",
        "希望这对你有帮助！如果你有更多问题或需要进一步的详细信息，请随时告诉我。"
      ]
    },
    {
      "cell_type": "code",
      "execution_count": 24,
      "metadata": {
        "id": "tfZaWjpkd0ff",
        "outputId": "850de73a-6581-4c8f-ca5d-352cdb77ccc1",
        "colab": {
          "base_uri": "https://localhost:8080/"
        }
      },
      "outputs": [
        {
          "output_type": "stream",
          "name": "stderr",
          "text": [
            "<ipython-input-24-241cf25f5516>:1: FutureWarning: You are using `torch.load` with `weights_only=False` (the current default value), which uses the default pickle module implicitly. It is possible to construct malicious pickle data which will execute arbitrary code during unpickling (See https://github.com/pytorch/pytorch/blob/main/SECURITY.md#untrusted-models for more details). In a future release, the default value for `weights_only` will be flipped to `True`. This limits the functions that could be executed during unpickling. Arbitrary objects will no longer be allowed to be loaded via this mode unless they are explicitly allowlisted by the user via `torch.serialization.add_safe_globals`. We recommend you start setting `weights_only=True` for any use case where you don't have full control of the loaded file. Please open an issue on GitHub for any issues related to this experimental feature.\n",
            "  model.load_state_dict(torch.load(os.path.join(data_dir, \"best_metric_model.pth\")))  # Changed root_dir to data_dir\n"
          ]
        }
      ],
      "source": [
        "model.load_state_dict(torch.load(os.path.join(data_dir, \"best_metric_model.pth\")))  # Changed root_dir to data_dir\n",
        "model.eval()\n",
        "\n",
        "y_true = []\n",
        "y_pred = []\n",
        "with torch.no_grad():\n",
        "    for test_data in test_loader:\n",
        "        test_images, test_labels = (\n",
        "            test_data[0].to(device),\n",
        "            test_data[1].to(device),\n",
        "        )\n",
        "        pred = model(test_images).argmax(dim=1)\n",
        "        for i in range(len(pred)):\n",
        "            y_true.append(test_labels[i].item())\n",
        "            y_pred.append(pred[i].item())\n"
      ]
    },
    {
      "cell_type": "code",
      "execution_count": null,
      "metadata": {
        "tags": [],
        "id": "UFZcc69dd0ff",
        "outputId": "da57c433-d33f-4c70-e025-f5f250217cb3"
      },
      "outputs": [
        {
          "name": "stdout",
          "output_type": "stream",
          "text": [
            "              precision    recall  f1-score   support\n",
            "\n",
            "   AbdomenCT     0.9930    0.9920    0.9925       995\n",
            "   BreastMRI     0.9966    0.9932    0.9949       880\n",
            "         CXR     1.0000    0.9959    0.9980       982\n",
            "     ChestCT     0.9912    1.0000    0.9956      1014\n",
            "        Hand     0.9971    0.9914    0.9943      1048\n",
            "      HeadCT     0.9929    0.9980    0.9954       976\n",
            "\n",
            "    accuracy                         0.9951      5895\n",
            "   macro avg     0.9951    0.9951    0.9951      5895\n",
            "weighted avg     0.9951    0.9951    0.9951      5895\n",
            "\n"
          ]
        }
      ],
      "source": [
        "print(classification_report(y_true, y_pred, target_names=class_names, digits=4))"
      ]
    },
    {
      "cell_type": "markdown",
      "metadata": {
        "id": "VckB0alWd0ff"
      },
      "source": [
        "## 清理数据目录\n",
        "\n",
        "如果使用了临时目录，请删除该目录。\n",
        "\n",
        "希望这对你有帮助！如果你有更多问题或需要进一步的详细信息，请随时告诉我。"
      ]
    },
    {
      "cell_type": "code",
      "execution_count": null,
      "metadata": {
        "id": "TBelcPQ9d0ff"
      },
      "outputs": [],
      "source": [
        "if directory is None:\n",
        "    shutil.rmtree(root_dir)"
      ]
    }
  ],
  "metadata": {
    "kernelspec": {
      "display_name": "Python 3",
      "name": "python3"
    },
    "language_info": {
      "codemirror_mode": {
        "name": "ipython",
        "version": 3
      },
      "file_extension": ".py",
      "mimetype": "text/x-python",
      "name": "python",
      "nbconvert_exporter": "python",
      "pygments_lexer": "ipython3",
      "version": "3.10.12"
    },
    "colab": {
      "provenance": [],
      "gpuType": "T4"
    },
    "accelerator": "GPU"
  },
  "nbformat": 4,
  "nbformat_minor": 0
}